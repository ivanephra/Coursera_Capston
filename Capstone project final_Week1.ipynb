{
    "cells": [
        {
            "cell_type": "markdown",
            "metadata": {
                "collapsed": true
            },
            "source": "# Capstone Project - The Battle of Neighborhoods in NY"
        },
        {
            "cell_type": "markdown",
            "metadata": {},
            "source": "## Introduction"
        },
        {
            "cell_type": "markdown",
            "metadata": {},
            "source": "### Business Problem/Idea"
        },
        {
            "cell_type": "markdown",
            "metadata": {},
            "source": "To whoever's planning to do business in Ney York (NY), especially in the food services and want to open a restaurant in one of the NY City Boroughs. You are wondering in witch Borough of NY you would gain comfortable profit and more customers?\nWe will compare for you all the neighborhoods inside NY City and will recommend to you the best emplacement to begin your business, by analyzing location and geospatial data using Foursquare location data provider.\n"
        },
        {
            "cell_type": "markdown",
            "metadata": {},
            "source": "## Data set"
        },
        {
            "cell_type": "markdown",
            "metadata": {},
            "source": "We will be exploring and analyzing the NY dataset provided by IBM\u2019s labs.congnitive class.ai through the link https://geo.nyu.edu/catalog/nyu_2451_34572 and the Foursquare API.\nWe will use the Segmentation and Clustering methodology for analysis of the Neighborhoods and Boroughs  of the New York City."
        },
        {
            "cell_type": "code",
            "execution_count": null,
            "metadata": {},
            "outputs": [],
            "source": ""
        }
    ],
    "metadata": {
        "kernelspec": {
            "display_name": "Python 3.6",
            "language": "python",
            "name": "python3"
        },
        "language_info": {
            "codemirror_mode": {
                "name": "ipython",
                "version": 3
            },
            "file_extension": ".py",
            "mimetype": "text/x-python",
            "name": "python",
            "nbconvert_exporter": "python",
            "pygments_lexer": "ipython3",
            "version": "3.6.9"
        }
    },
    "nbformat": 4,
    "nbformat_minor": 1
}