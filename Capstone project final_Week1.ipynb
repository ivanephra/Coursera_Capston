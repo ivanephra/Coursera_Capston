{
    "cells": [
        {
            "cell_type": "markdown",
            "metadata": {
                "collapsed": true
            },
            "source": "# Capstone Project - The Battle of Neighborhoods in NY"
        },
        {
            "cell_type": "markdown",
            "metadata": {},
            "source": "## Introduction"
        },
        {
            "cell_type": "markdown",
            "metadata": {},
            "source": "### Business Problem/Idea"
        },
        {
            "cell_type": "markdown",
            "metadata": {},
            "source": "New York City (NYC), is the most populous city in the United States. With an estimated 2018 population of 8,398,748 distributed over a land area of about 302.6 square miles (784 km2), New York is also the most densely populated major city in the United States, located at the southern tip of the state of New York. New York City has been described as the cultural, financial,and media capital of the world, and exerts a significant impact upon commerce, entertainment, research, technology, education, politics, tourism, art, fashion, and sports. New York City encompasses five county-level administrative divisions called boroughs: The Bronx, Brooklyn, Manhattan, Queens, and Staten Island.<br> <br>\nTo whoever's planning to do business in Ney York City, especially in the food services and want to open a restaurant in one of the NY City Boroughs and wondering in which Borough of NY to implement his business, gain more customers and be competitive on the food market; We will compare for you all the neighborhoods inside NYC and will recommend to you the best emplacement to begin your business, by analyzing locations and geospatial data using Foursquare location data provider.\n"
        },
        {
            "cell_type": "markdown",
            "metadata": {},
            "source": "## Data set"
        },
        {
            "cell_type": "markdown",
            "metadata": {},
            "source": "We will extract NYC dataset from https://geo.nyu.edu/catalog/nyu_2451_34572. This dataset contains the five boroughs and the neighborhoods that exist in each borough as well as the the latitude and logitude coordinates of each neighborhood. <br>we are going to start utilizing the Foursquare API to explore the neighborhoods and segment them, then use the explore function to get the most common venue categories in each neighborhood, and then use this feature to group the neighborhoods into clusters. <br>We will use the k-means clustering algorithm to complete this task. Finally, we will use the Folium library to visualize the neighborhoods in New York City and their emerging clusters."
        },
        {
            "cell_type": "code",
            "execution_count": null,
            "metadata": {},
            "outputs": [],
            "source": ""
        }
    ],
    "metadata": {
        "kernelspec": {
            "display_name": "Python 3.6",
            "language": "python",
            "name": "python3"
        },
        "language_info": {
            "codemirror_mode": {
                "name": "ipython",
                "version": 3
            },
            "file_extension": ".py",
            "mimetype": "text/x-python",
            "name": "python",
            "nbconvert_exporter": "python",
            "pygments_lexer": "ipython3",
            "version": "3.6.9"
        }
    },
    "nbformat": 4,
    "nbformat_minor": 1
}